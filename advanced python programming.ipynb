{
 "cells": [
  {
   "cell_type": "markdown",
   "metadata": {},
   "source": [
    "# **`Learning python notes`**\n",
    "\n",
    "## **`Udemy zero to mastery`**\n",
    "\n",
    "1. **Introduction**\n",
    "2. **Python introduction**\n",
    "3. **Python basics**\n",
    "4. **Python basics II**\n",
    "5. **Developer environment**\n",
    "6. **Advanced object oriented programming**\n",
    "7. **Advanced python functional programming**\n",
    "8. **Advanced python decorators**\n",
    "9. **Advanced python error handling**\n",
    "10. **Advanced python generators**\n",
    "11. **Modules in python**\n",
    "12. **Debugging in python**\n",
    "13. **File IO**\n",
    "14. **Regular expressions**\n",
    "17. **Scripting with python**\n",
    "18. **Scraping data with python**\n",
    "19. **Web development with python**\n",
    "20. **Automation testing**\n",
    "21. **Machine learning + Data science**\n"
   ]
  },
  {
   "cell_type": "markdown",
   "metadata": {},
   "source": [
    "## 6. **Advanced object oriented programming**\n",
    "* OOP is a way to structure our code that we'll be able to be organized as it gets bigger.\n",
    "  * With OOP we  save lots of lines of code in order to clean organized efficient programming.\n",
    "  * OOP allows us to crate objects that have their own methods and attributes (properties).\n",
    "    * Attributes are pieces of data that are dynamic and their going to be unique to that specific object.\n",
    "    * Class object attributes are not dynamic. It can not be modify to every object instantiated.\n",
    "    * There are class methods and static methods. @classmethod & @staticmethod.\n",
    "      * We can use @classmethod with out instantiating an object.\n",
    "* 4 Pillars of oop:\n",
    "  1. Encapsulation: Binding of functions and data that manipulate that data.\n",
    "  2. Abstraction: Hiding of information and give access to what is necessary.\n",
    "      * Private vs Public variables: In python there isn't actual private variable but just a naming convention: _variable\n",
    "      * In fact dunder method is kind of a naming convention to warn others that this shouldn't over write.\n",
    "  3. Inheritance: Allows new objects to take on the properties of existing objects. isinstance(instance, class)\n",
    "  4. Polymorphism: Object classes can share same method name but it can act differently based on what object calls them.\n",
    "      * Like archers and wizards that both have attack method.\n",
    "* Dunder methods are special methods that python allows us to use with our objects.\n",
    "  * Every thing in python is an object that inherits from the base object class.\n",
    "* MRO is a rule to determine when U run a method which one to run when there is complicated inheritance structure. D.mro()\n",
    "  * We should avoid multi inheritance as much as possible or at least be cautious when dealing with it."
   ]
  },
  {
   "cell_type": "code",
   "execution_count": 1,
   "metadata": {},
   "outputs": [],
   "source": [
    "class class_name:\n",
    "    def __init__(self) -> None:\n",
    "        pass\n",
    "    @classmethod\n",
    "    def sth():\n",
    "        pass"
   ]
  },
  {
   "cell_type": "code",
   "execution_count": 2,
   "metadata": {},
   "outputs": [
    {
     "name": "stdout",
     "output_type": "stream",
     "text": [
      "Player Cindy is 23 years old with 120 attack and 700 health\n",
      "Player Andy is 20 years old with 140 attack and 620 health\n",
      "Player anonymous is 00 years old with 0 attack and 0 health\n",
      "Using a @classmethod results in: 7\n",
      "My name is Cindy\n"
     ]
    }
   ],
   "source": [
    "# OOP\n",
    "class PlayerCharacter:\n",
    "    membership = True\n",
    "    def __init__(self, name = 'anonymous', age = '00', attack = 000 , health = 000): # we can give default parameters\n",
    "        if PlayerCharacter.membership: #! we can use class name because 'membership' is a class attribute\n",
    "            self.name = name # attributes\n",
    "            self.age = age # attributes\n",
    "            self.attack = attack # attributes\n",
    "            self.health = health # attributes\n",
    "    def shout(self):\n",
    "        print(f'My name is {self.name}') #! we can't use class name because 'name' is not a class attribute\n",
    "    @classmethod\n",
    "    def summation(cls, num1, num2):\n",
    "        return num1 + num2\n",
    "\n",
    "\n",
    "# players (objects) are made from same blue print but they are different\n",
    "player1 = PlayerCharacter('Cindy', 23, 120, 700)\n",
    "player2 = PlayerCharacter('Andy', 20, 140, 620)\n",
    "player3= PlayerCharacter() # parameters are not defined so we'll face the default parameters\n",
    "print(f'Player {player1.name} is {player1.age} years old with {player1.attack} attack and {player1.health} health')\n",
    "print(f'Player {player2.name} is {player2.age} years old with {player2.attack} attack and {player2.health} health')\n",
    "print(f'Player {player3.name} is {player3.age} years old with {player3.attack} attack and {player3.health} health')\n",
    "print('Using a @classmethod results in:',PlayerCharacter.summation(5,2))\n",
    "player1.shout() # absteraction"
   ]
  },
  {
   "cell_type": "markdown",
   "metadata": {},
   "source": [
    "## 7. **Advanced functional programming**\n",
    "* An other paradigm to organize our code. Functional programming separates functions from data.\n",
    "    * Pure functions have two rules:\n",
    "        1. Given the same input will always return the same output.\n",
    "        2. A function should not create side effects.\n",
    "    * Pure functions are easier to develop and test. But they are kind of a guide line not an absolute.\n",
    "* Some of very useful and common pure functions:\n",
    "    1. map(function, iterable)\n",
    "    2. filter(function, iterable) # returns only if it's true\n",
    "    3. zip(iterable1, iterable2, ...)\n",
    "    4. reduce(function, sequence, initial) >not a built in function > from functools import reduce\n",
    "* Lambda expressions is useful in situations that:\n",
    "    1. We have a function that we need to use it once. lambda param: action(param)\n",
    "    2. We have anonymous functions.\n",
    "* List comprehensions: my_list = [param for param in iterable if condition]\n",
    "* Set and dictionary comprehensions:\n",
    "    * my_set = {param for param in iterable if condition}\n",
    "    * my_dict = {key: value ** 2 for key, value in dic.items() if condition} \n"
   ]
  },
  {
   "cell_type": "markdown",
   "metadata": {},
   "source": [
    "## 8. **Advanced python decorators**\n",
    "* Functions in python act like variables. They're first class citizens. Because of this feature we have decorators.\n",
    "* A high order function is a function that accepts inside its parameters another function OR returns a function.\n",
    "    * For example map() is a high order function.\n",
    "* A decorator super charges out (enhances or changes) function.\n"
   ]
  },
  {
   "cell_type": "code",
   "execution_count": 3,
   "metadata": {},
   "outputs": [
    {
     "name": "stdout",
     "output_type": "stream",
     "text": [
      "hellooooo\n"
     ]
    }
   ],
   "source": [
    "# in python functions act like variables\n",
    "def hello():\n",
    "    print('hellooooo')\n",
    "greet = hello\n",
    "del hello\n",
    "# hello()\n",
    "greet()"
   ]
  },
  {
   "cell_type": "code",
   "execution_count": 4,
   "metadata": {},
   "outputs": [
    {
     "name": "stdout",
     "output_type": "stream",
     "text": [
      "*******\n",
      "good morning my neighbor!\n",
      "How are u? :)\n",
      "*************\n"
     ]
    }
   ],
   "source": [
    "# creating and usuing a decorator\n",
    "def my_decorator(func):\n",
    "    def wrap_function(*args, **kwargs):\n",
    "        print('*******')\n",
    "        func(*args, **kwargs) # this calls the inside function of a decorator\n",
    "        print('*************')\n",
    "    return wrap_function\n",
    "\n",
    "@my_decorator\n",
    "def greet_function(greet, emoji = ':)'):\n",
    "    print('good morning my neighbor!')\n",
    "    print(greet, emoji)\n",
    "\n",
    "greet_function('How are u?')"
   ]
  },
  {
   "cell_type": "markdown",
   "metadata": {},
   "source": [
    "## 9. **Advanced error handling**\n",
    "* We need error handling to avoid stopping the entire program in case of there is an error.\n",
    "    * Some type of errors:\n",
    "        * Syntax error\n",
    "        * Name error\n",
    "        * Index error\n",
    "        * Key errors\n",
    "        * Zero division\n",
    "        * Value error\n",
    "* Some times we need to catch an error and stop the program from running.\n",
    "    * In this case we use raise()\n"
   ]
  },
  {
   "cell_type": "code",
   "execution_count": 5,
   "metadata": {},
   "outputs": [],
   "source": [
    "# error handling\n",
    "try:\n",
    "    user_age = int(input('How old are U? '))\n",
    "except ValueError as err: #? we want to print the error\n",
    "    print('Please insert a number positive number')\n",
    "    print(err)\n",
    "else:\n",
    "    print(f'You are {user_age} years old')\n",
    "finally:\n",
    "    print('Idc what happend with the exception. This line runs any way!') #! this runs even the loop breaks"
   ]
  },
  {
   "cell_type": "markdown",
   "metadata": {},
   "source": [
    "## 10. **Advanced python generators**\n",
    "* Generators allow us to generate a sequence of values over time. for exp range()\n",
    "* Every generate is an iterable but every iterable is not a generator necessarily.\n",
    "    * The difference between this two is how we implement them.\n",
    "        * We create a generate with yield.\n",
    "        * yield pauses the function and resume it with the next order we give to it.\n",
    "* Generators have much better performance than lists cause they use less memory.\n",
    "\n"
   ]
  },
  {
   "cell_type": "code",
   "execution_count": null,
   "metadata": {},
   "outputs": [
    {
     "data": {
      "text/plain": [
       "<generator object generator_function at 0x000002380AE3A8F0>"
      ]
     },
     "execution_count": 5,
     "metadata": {},
     "output_type": "execute_result"
    }
   ],
   "source": [
    "def generator_function(num):\n",
    "    for i in range(num):\n",
    "        yield i #! unlike functions we do not use return is generators\n",
    "\n",
    "generator_function(100)"
   ]
  },
  {
   "cell_type": "markdown",
   "metadata": {},
   "source": [
    "## 11. **Modules in python**\n",
    "* Each '.py' file is a module. Modules are another way to organize our code.\n",
    "* Packages are folders that contain our modules.\n",
    "* Different ways to import modules:\n",
    "    * import module\n",
    "    * from module import *      # this is not recommended because it's not clear enough\n",
    "    * from module import function       # this is the best practice (because we're explicit)\n",
    "    * from package.module import function\n",
    "* In python the file that we are running gets the name __main__\n",
    "* **True power of python is because of the external libraries** The best practice is to search standard libraries first and then go for external libraries.\n",
    "* Pros and cons of libraries:\n",
    "    * Buggy packages - Numbers of use and maintaining order is a sign to detect good packages.\n",
    "    * Projects gets heavier with importing packages. Can I code it my self in a reasonable time?"
   ]
  },
  {
   "cell_type": "markdown",
   "metadata": {},
   "source": [
    "## 12. **Debugging**\n",
    "* linting\n",
    "* IDEs / Code editors\n",
    "* read errors\n",
    "* Python debugger (pdb module)\n",
    "* using print\n"
   ]
  },
  {
   "cell_type": "markdown",
   "metadata": {},
   "source": [
    "## 13. **Working with files**\n",
    "* Read, write, append\n",
    "    * open('file name', mode='r') Reading a file.\n",
    "    * open('file name', mode='w') Creating a new file or over write the existing one.\n",
    "    * open('file name', mode='r+') Reading and writing a file.\n",
    "    * open('file name', mode='a') Adding sth at the end of a file.\n",
    "* File paths: relative path: related to current python file location (it's common because of simplicity) - absolute pass\n",
    "\n",
    "\n"
   ]
  },
  {
   "cell_type": "markdown",
   "metadata": {},
   "source": [
    "## 14. **Regular expressions**\n",
    "* Regular expressions are common in pretty much every programming languages.Here is two useful links to learn about them:\n",
    "    * [Regex101](https://regex101.com/) \n",
    "    * [Regexone](https://regexone.com/)\n",
    "* Regular expressions are a great tool for data validation. We can use them to avoid junky inputs."
   ]
  },
  {
   "cell_type": "markdown",
   "metadata": {},
   "source": [
    "## 15. **Testing in python**\n",
    "* We use testing after debugging to test our program before lunching it to make sure every thing is ok."
   ]
  },
  {
   "cell_type": "code",
   "execution_count": null,
   "metadata": {},
   "outputs": [],
   "source": [
    "import unittest\n",
    "import pythontesting\n",
    "\n",
    "\n",
    "class TestMain(unittest.TestCase):\n",
    "    def test_do_stuff1(self):\n",
    "        test_pram = '10'\n",
    "        result = pythontesting.do_stuff(test_pram)\n",
    "        self.assertEqual(result, 15)\n",
    "\n",
    "    def test_do_stuff2(self):\n",
    "        test_pram = 'dhdh'\n",
    "        result = pythontesting.do_stuff(test_pram)\n",
    "        self.assertIsInstance(result, ValueError)\n",
    "\n",
    "\n",
    "unittest.main()\n"
   ]
  },
  {
   "cell_type": "markdown",
   "metadata": {},
   "source": [
    "## 17. **Scripting with python**\n",
    "* [Pillow library](https://pillow.readthedocs.io/en/stable/handbook/tutorial.html) \n",
    "* [OpenCV](https://opencv.org/)\n",
    "* [PyPDF2](https://pythonhosted.org/PyPDF2/) \n",
    "* [Python Emails](https://docs.python.org/3/library/email.examples.html) \n"
   ]
  },
  {
   "cell_type": "markdown",
   "metadata": {},
   "source": [
    "## 18. **Scraping data with python**\n",
    "* Hacker news project\n",
    "* Beautiful soup & Requests\n",
    "* Scrapy framework\n"
   ]
  },
  {
   "cell_type": "markdown",
   "metadata": {},
   "source": [
    "## 19. **Web development with python**\n",
    "* How websites work?\n",
    "    * Browsers send a request to a server through http / https protocols.\n",
    "        * Usually a website is made of three components:\n",
    "            * HTML which is the text / content of a website.\n",
    "            * CSS contains all the styling like colors, position of the elements etc...\n",
    "            * JS gives websites behavior\n",
    "    * The server send to browser these three kind of files.\n",
    "* Flask and Django are two most popular frameworks for python web development.\n",
    "* Working with flask:\n",
    "    * Creating a server\n",
    "    * Flask templates   # remember to create a template folder\n",
    "    * Flask static files    # remember to create a static folder\n"
   ]
  },
  {
   "cell_type": "markdown",
   "metadata": {},
   "source": [
    "## 20. **Automation testing**\n",
    "* With automation testing we want to simulate user action in order to make sure our software works properly.\n",
    "    * [Selenium](https://selenium-python.readthedocs.io/)\n",
    "        * Use selenium documentations to create your own automation testing.\n",
    "    * [Selenium commands cheat sheet](http://allselenium.info/python-selenium-commands-cheat-sheet-frequently-used/)\n",
    "        * Use this cheat sheet to select parts of data that you need.\n",
    "    * Using selenium / webdriver we can drive the web through code.\n",
    "\n",
    "\n"
   ]
  },
  {
   "cell_type": "markdown",
   "metadata": {},
   "source": [
    "## 21. **Machine learning + Data science**\n",
    "* Computers are really good at working at tasks that have defined rules. Like a game of chess.\n",
    "    * The harder things become to describe the harder it is for us to tell machines what to do. We tackle this problem with ML.\n",
    "* ML: Give computer the input and the desired out put and the function is created by the machine. (ML is simply a function)\n",
    "    * Function can be replaced with model / algorithm / bot / brain.\n",
    "    * The side effect of ML's functions is that the more they become complex it becomes harder for us as developers to understand how it works (because the machine is creating them).\n",
    "    * **Stanford describes ML as the science of getting computers to act with out being explicitly programmed.**\n",
    "    * AI > ML > Deep Learning. >>>Data science over laps with these fields.\n",
    "* Machine learning categories: They all learn from the data that receives and predict something.\n",
    "    1. **Supervised learning:** The input data already has categories (labeled). Classification / Regression\n",
    "    2. **Unsupervised learning:** The input data doesn't have categories. (machine needs to label it) Clustering / Rule learning\n",
    "    3. **Reinforcement learning:** Teaching machines through try and error. Skill acquisition / Real time learning\n",
    "* What a ML expert does?\n",
    "    1. Import the data from a database, csv file etc\n",
    "    2. Clean the data to that when we use it later on it's not going to give us any errors or make bad predictions.\n",
    "    3. Split the data in to **training set** and **testing set**.\n",
    "    4. Create a model: Most of the time we import an algorithm.\n",
    "    5. Check the output with the test set. Is the output matches with what we expected?\n",
    "    6. Improve (change the input / algorithm / model etc)\n",
    "* We use these essential tools:\n",
    "    * **NumPy** for working with list and arrays\n",
    "    * **Pandas** for working with tabular data\n",
    "    * **sciKit-learn** for creating a model\n",
    "    * **MatPlotLib** for visualizing data. There are some libraries that is built on top of MatPlotLib like **seaborn** and **bokeh**\n",
    "    * **Jupyter notebooks** to step through our code and keep track of things\n",
    "    * **kaggle** to access free datasets"
   ]
  }
 ],
 "metadata": {
  "interpreter": {
   "hash": "8e8e4eb5db0f860d4a44dc6330e82e048092d887d887acb3f533fd17e70a9777"
  },
  "kernelspec": {
   "display_name": "Python 3.10.0 64-bit",
   "name": "python3"
  },
  "language_info": {
   "codemirror_mode": {
    "name": "ipython",
    "version": 3
   },
   "file_extension": ".py",
   "mimetype": "text/x-python",
   "name": "python",
   "nbconvert_exporter": "python",
   "pygments_lexer": "ipython3",
   "version": "3.10.0"
  },
  "orig_nbformat": 4
 },
 "nbformat": 4,
 "nbformat_minor": 2
}
