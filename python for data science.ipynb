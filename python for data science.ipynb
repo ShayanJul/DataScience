{
 "cells": [
  {
   "cell_type": "markdown",
   "metadata": {},
   "source": [
    "## Why python?\n",
    "* open Source\n",
    "* general-purpose\n",
    "* high level"
   ]
  },
  {
   "cell_type": "markdown",
   "metadata": {},
   "source": [
    "## Variables and data types"
   ]
  },
  {
   "cell_type": "code",
   "execution_count": 110,
   "metadata": {},
   "outputs": [
    {
     "data": {
      "text/plain": [
       "(12, 9.2)"
      ]
     },
     "execution_count": 110,
     "metadata": {},
     "output_type": "execute_result"
    }
   ],
   "source": [
    "# variables\n",
    "x = 5\n",
    "y, z = (12, -4.2)\n",
    "y , x-z"
   ]
  },
  {
   "cell_type": "code",
   "execution_count": 111,
   "metadata": {},
   "outputs": [
    {
     "data": {
      "text/plain": [
       "(int, float)"
      ]
     },
     "execution_count": 111,
     "metadata": {},
     "output_type": "execute_result"
    }
   ],
   "source": [
    "# numbers and booleans\n",
    "type(x), type(z)"
   ]
  },
  {
   "cell_type": "code",
   "execution_count": 112,
   "metadata": {},
   "outputs": [
    {
     "data": {
      "text/plain": [
       "(-4.2, float, -4, int, -4.0, float)"
      ]
     },
     "execution_count": 112,
     "metadata": {},
     "output_type": "execute_result"
    }
   ],
   "source": [
    "# numbers\n",
    "d = int(z)\n",
    "e = float(d)\n",
    "z, type(z), d, type(d), e, type(e)"
   ]
  },
  {
   "cell_type": "code",
   "execution_count": 113,
   "metadata": {},
   "outputs": [
    {
     "data": {
      "text/plain": [
       "bool"
      ]
     },
     "execution_count": 113,
     "metadata": {},
     "output_type": "execute_result"
    }
   ],
   "source": [
    "# booleans\n",
    "x5 = True\n",
    "type(x5)"
   ]
  },
  {
   "cell_type": "code",
   "execution_count": 114,
   "metadata": {},
   "outputs": [
    {
     "name": "stdout",
     "output_type": "stream",
     "text": [
      "Dollars\n"
     ]
    },
    {
     "data": {
      "text/plain": [
       "('dollars', str, None)"
      ]
     },
     "execution_count": 114,
     "metadata": {},
     "output_type": "execute_result"
    }
   ],
   "source": [
    "# strings: text values composed of a sequence of characters\n",
    "s = 'dollars'\n",
    "s, type(s), print('Dollars')"
   ]
  },
  {
   "cell_type": "code",
   "execution_count": 115,
   "metadata": {},
   "outputs": [
    {
     "name": "stdout",
     "output_type": "stream",
     "text": [
      "I have -4.2 dollars!!!\n",
      "I have -4.2 dollars!\n"
     ]
    }
   ],
   "source": [
    "print(f'I have {z} dollars!!!')\n",
    "print('I have ' + str(z) + ' dollars!')"
   ]
  },
  {
   "cell_type": "markdown",
   "metadata": {},
   "source": [
    "## Basic python syntax"
   ]
  },
  {
   "cell_type": "code",
   "execution_count": 116,
   "metadata": {},
   "outputs": [
    {
     "data": {
      "text/plain": [
       "(5, 1, 0.2)"
      ]
     },
     "execution_count": 116,
     "metadata": {},
     "output_type": "execute_result"
    }
   ],
   "source": [
    "# arithmetic operators\n",
    "int(16 / 3), 16 % 3, 5 ** -1"
   ]
  },
  {
   "cell_type": "code",
   "execution_count": 117,
   "metadata": {},
   "outputs": [
    {
     "data": {
      "text/plain": [
       "False"
      ]
     },
     "execution_count": 117,
     "metadata": {},
     "output_type": "execute_result"
    }
   ],
   "source": [
    "# double equity sign\n",
    "x = 125\n",
    "x == 130"
   ]
  },
  {
   "cell_type": "code",
   "execution_count": 118,
   "metadata": {},
   "outputs": [
    {
     "data": {
      "text/plain": [
       "-1"
      ]
     },
     "execution_count": 118,
     "metadata": {},
     "output_type": "execute_result"
    }
   ],
   "source": [
    "# reassign values\n",
    "z = 5\n",
    "z = -3\n",
    "z + 2"
   ]
  },
  {
   "cell_type": "code",
   "execution_count": 119,
   "metadata": {},
   "outputs": [],
   "source": [
    "# add comments\n",
    "# This is a comment"
   ]
  },
  {
   "cell_type": "code",
   "execution_count": 120,
   "metadata": {},
   "outputs": [
    {
     "data": {
      "text/plain": [
       "15.0"
      ]
     },
     "execution_count": 120,
     "metadata": {},
     "output_type": "execute_result"
    }
   ],
   "source": [
    "# Line continuation\n",
    "3 + 2.0 * \\\n",
    "6"
   ]
  },
  {
   "cell_type": "code",
   "execution_count": 121,
   "metadata": {},
   "outputs": [
    {
     "data": {
      "text/plain": [
       "'d'"
      ]
     },
     "execution_count": 121,
     "metadata": {},
     "output_type": "execute_result"
    }
   ],
   "source": [
    "# indexing elements\n",
    "'Friday'[3]"
   ]
  },
  {
   "cell_type": "code",
   "execution_count": 122,
   "metadata": {},
   "outputs": [
    {
     "data": {
      "text/plain": [
       "5"
      ]
     },
     "execution_count": 122,
     "metadata": {},
     "output_type": "execute_result"
    }
   ],
   "source": [
    "# indentation\n",
    "def five(x):\n",
    "    x = 5\n",
    "    return x\n",
    "five('Hi')"
   ]
  },
  {
   "cell_type": "markdown",
   "metadata": {},
   "source": [
    "## Other python operators"
   ]
  },
  {
   "cell_type": "code",
   "execution_count": 123,
   "metadata": {},
   "outputs": [
    {
     "data": {
      "text/plain": [
       "(True, False, True, False, True)"
      ]
     },
     "execution_count": 123,
     "metadata": {},
     "output_type": "execute_result"
    }
   ],
   "source": [
    "# comparison opearators\n",
    "10 == 10, 10 != 10, 12 > 10, 12 < 10, 15 + 20 > 10 + 10"
   ]
  },
  {
   "cell_type": "code",
   "execution_count": 124,
   "metadata": {},
   "outputs": [
    {
     "data": {
      "text/plain": [
       "(True, False, False, True, False)"
      ]
     },
     "execution_count": 124,
     "metadata": {},
     "output_type": "execute_result"
    }
   ],
   "source": [
    "# logical operators (boolean operators)\n",
    "True and True, False and False, True and False, True or False, not True\n",
    "\n",
    "# order of importance of logical operators\n",
    "# 1.not 2.and 3.or\n",
    "# True and not True"
   ]
  },
  {
   "cell_type": "code",
   "execution_count": 125,
   "metadata": {},
   "outputs": [
    {
     "name": "stderr",
     "output_type": "stream",
     "text": [
      "<>:2: SyntaxWarning: \"is\" with a literal. Did you mean \"==\"?\n",
      "<>:2: SyntaxWarning: \"is not\" with a literal. Did you mean \"!=\"?\n",
      "<>:2: SyntaxWarning: \"is\" with a literal. Did you mean \"==\"?\n",
      "<>:2: SyntaxWarning: \"is not\" with a literal. Did you mean \"!=\"?\n",
      "C:\\Users\\SHAYAN~1\\AppData\\Local\\Temp/ipykernel_6260/121693789.py:2: SyntaxWarning: \"is\" with a literal. Did you mean \"==\"?\n",
      "  5 is 6, 5 is not 6\n",
      "C:\\Users\\SHAYAN~1\\AppData\\Local\\Temp/ipykernel_6260/121693789.py:2: SyntaxWarning: \"is not\" with a literal. Did you mean \"!=\"?\n",
      "  5 is 6, 5 is not 6\n"
     ]
    },
    {
     "data": {
      "text/plain": [
       "(False, True)"
      ]
     },
     "execution_count": 125,
     "metadata": {},
     "output_type": "execute_result"
    }
   ],
   "source": [
    "# identity operators\n",
    "5 is 6, 5 is not 6"
   ]
  },
  {
   "cell_type": "markdown",
   "metadata": {},
   "source": [
    "## conditional statements\n"
   ]
  },
  {
   "cell_type": "code",
   "execution_count": 126,
   "metadata": {},
   "outputs": [
    {
     "name": "stdout",
     "output_type": "stream",
     "text": [
      "Hooray!\n"
     ]
    }
   ],
   "source": [
    "# if statement\n",
    "if 5 == 15 / 3:\n",
    "    print('Hooray!')\n",
    "if 5 == 18 / 3:\n",
    "    print('Hooray!')"
   ]
  },
  {
   "cell_type": "code",
   "execution_count": 127,
   "metadata": {},
   "outputs": [
    {
     "name": "stdout",
     "output_type": "stream",
     "text": [
      "1 is less than or equal to 3.\n"
     ]
    }
   ],
   "source": [
    "# else statement\n",
    "# remember to place if and else keywords on the same vertical line\n",
    "x = 1\n",
    "if x > 3:\n",
    "    print(f'{x} is greater than 3.')\n",
    "else:\n",
    "    print(f'{x} is less than or equal to 3.')"
   ]
  },
  {
   "cell_type": "code",
   "execution_count": 128,
   "metadata": {},
   "outputs": [
    {
     "data": {
      "text/plain": [
       "'Negative'"
      ]
     },
     "execution_count": 128,
     "metadata": {},
     "output_type": "execute_result"
    }
   ],
   "source": [
    "# elif statement\n",
    "def compare_to_five(x):\n",
    "    if x > 5:\n",
    "        return 'Greater'\n",
    "    elif x < 0:\n",
    "        return 'Negative'\n",
    "    elif x < 5:\n",
    "        return 'Less'\n",
    "    else:\n",
    "        return 'equal'\n",
    "compare_to_five(-6)\n",
    "# every conditional statement convert to a boolean value first"
   ]
  },
  {
   "cell_type": "markdown",
   "metadata": {},
   "source": [
    "## Python functions\n"
   ]
  },
  {
   "cell_type": "code",
   "execution_count": 1,
   "metadata": {},
   "outputs": [
    {
     "name": "stdout",
     "output_type": "stream",
     "text": [
      "My first function\n"
     ]
    }
   ],
   "source": [
    "# defining a function in python\n",
    "def simple_fun():\n",
    "    print('My first function')\n",
    "simple_fun()"
   ]
  },
  {
   "cell_type": "code",
   "execution_count": 5,
   "metadata": {},
   "outputs": [
    {
     "data": {
      "text/plain": [
       "6.640000000000001"
      ]
     },
     "execution_count": 5,
     "metadata": {},
     "output_type": "execute_result"
    }
   ],
   "source": [
    "# create a function with a parameter\n",
    "def plus_ten(parameter):\n",
    "    return parameter + 10\n",
    "plus_ten(-3.36)"
   ]
  },
  {
   "cell_type": "code",
   "execution_count": 6,
   "metadata": {},
   "outputs": [
    {
     "data": {
      "text/plain": [
       "27"
      ]
     },
     "execution_count": 6,
     "metadata": {},
     "output_type": "execute_result"
    }
   ],
   "source": [
    "# another way to create a function\n",
    "def new_plus_ten(x):\n",
    "    result = x + 10\n",
    "    return result\n",
    "new_plus_ten(17)"
   ]
  },
  {
   "cell_type": "code",
   "execution_count": 9,
   "metadata": {},
   "outputs": [
    {
     "data": {
      "text/plain": [
       "1050"
      ]
     },
     "execution_count": 9,
     "metadata": {},
     "output_type": "execute_result"
    }
   ],
   "source": [
    "# use a unction within a function\n",
    "def wage(w_hours):\n",
    "    return w_hours * 25\n",
    "\n",
    "def with_bonus(hours):\n",
    "    return wage(hours) + 50\n",
    "\n",
    "with_bonus(40)"
   ]
  },
  {
   "cell_type": "code",
   "execution_count": 14,
   "metadata": {},
   "outputs": [
    {
     "name": "stdout",
     "output_type": "stream",
     "text": [
      "You should save more\n"
     ]
    }
   ],
   "source": [
    "# conditional statements and functions\n",
    "def add_ten(saving):\n",
    "    if saving >= 100:\n",
    "        return saving + 10\n",
    "    else:\n",
    "        print('You should save more')\n",
    "add_ten(95)"
   ]
  },
  {
   "cell_type": "code",
   "execution_count": 15,
   "metadata": {},
   "outputs": [
    {
     "data": {
      "text/plain": [
       "7"
      ]
     },
     "execution_count": 15,
     "metadata": {},
     "output_type": "execute_result"
    }
   ],
   "source": [
    "# functions containing a few arguments\n",
    "# in this cases order of the parameters matters\n",
    "def subtract_bc(a, b, c):\n",
    "    return a - b * c\n",
    "subtract_bc(5, 2, -1)"
   ]
  },
  {
   "cell_type": "code",
   "execution_count": 18,
   "metadata": {},
   "outputs": [
    {
     "data": {
      "text/plain": [
       "3"
      ]
     },
     "execution_count": 18,
     "metadata": {},
     "output_type": "execute_result"
    }
   ],
   "source": [
    "# Built_in functions in python\n",
    "max(10, -3, 18)"
   ]
  },
  {
   "cell_type": "code",
   "execution_count": 22,
   "metadata": {},
   "outputs": [
    {
     "data": {
      "text/plain": [
       "True"
      ]
     },
     "execution_count": 22,
     "metadata": {},
     "output_type": "execute_result"
    }
   ],
   "source": [
    "x = '5'\n",
    "x.isnumeric()"
   ]
  },
  {
   "cell_type": "markdown",
   "metadata": {},
   "source": [
    "## Sequences"
   ]
  },
  {
   "cell_type": "code",
   "execution_count": 29,
   "metadata": {},
   "outputs": [
    {
     "data": {
      "text/plain": [
       "['John', 'Leila', 'Maria']"
      ]
     },
     "execution_count": 29,
     "metadata": {},
     "output_type": "execute_result"
    }
   ],
   "source": [
    "# lists are a type of sequence of data points\n",
    "participants = ['John', 'Leila', 'Gregory', 'Cate']\n",
    "participants.pop()\n",
    "participants.append('Maria')\n",
    "del participants[2]\n",
    "participants"
   ]
  },
  {
   "cell_type": "code",
   "execution_count": 64,
   "metadata": {},
   "outputs": [
    {
     "data": {
      "text/plain": [
       "['John', 'Leila', 'Maria', 'Dwayne', 'George', 'catherine']"
      ]
     },
     "execution_count": 64,
     "metadata": {},
     "output_type": "execute_result"
    }
   ],
   "source": [
    "# list methods\n",
    "participants.append('Dwayne')\n",
    "participants.extend(['George', 'catherine'])\n",
    "participants"
   ]
  },
  {
   "cell_type": "code",
   "execution_count": 73,
   "metadata": {},
   "outputs": [
    {
     "data": {
      "text/plain": [
       "(['Dwayne', 'George', 'John', 'Leila', 'Maria', 'catherine'],\n",
       " [['Dwayne', 'George', 'John', 'Leila', 'Maria', 'catherine'],\n",
       "  ['Joshua', 'Brittany']])"
      ]
     },
     "execution_count": 73,
     "metadata": {},
     "output_type": "execute_result"
    }
   ],
   "source": [
    "# list slicing\n",
    "participants[-2:], participants.index('Maria')\n",
    "new_comers = ['Joshua', 'Brittany']\n",
    "bigger_list = [participants, new_comers]\n",
    "participants.sort()\n",
    "participants, bigger_list"
   ]
  },
  {
   "cell_type": "code",
   "execution_count": 78,
   "metadata": {},
   "outputs": [
    {
     "data": {
      "text/plain": [
       "tuple"
      ]
     },
     "execution_count": 78,
     "metadata": {},
     "output_type": "execute_result"
    }
   ],
   "source": [
    "# tuples\n",
    "# tuples are immutable and they are the default sequence type is python\n",
    "x = (40, 41, 42)\n",
    "type(x)"
   ]
  },
  {
   "cell_type": "code",
   "execution_count": 80,
   "metadata": {},
   "outputs": [
    {
     "name": "stdout",
     "output_type": "stream",
     "text": [
      "The area and the perimeter of the square are: \n"
     ]
    },
    {
     "data": {
      "text/plain": [
       "((64, 32), ('30', ' 175'))"
      ]
     },
     "execution_count": 80,
     "metadata": {},
     "output_type": "execute_result"
    }
   ],
   "source": [
    "# tuples are usefull for comma seperated values and in functions returning more than one value\n",
    "(age, height) = '30, 175'.split(',')\n",
    "\n",
    "def square_info(x):\n",
    "    area = x ** 2\n",
    "    perimeter = x * 4\n",
    "    print('The area and the perimeter of the square are: ')\n",
    "    return area, perimeter\n",
    "square_info(8), (age, height)"
   ]
  },
  {
   "cell_type": "code",
   "execution_count": 84,
   "metadata": {},
   "outputs": [
    {
     "data": {
      "text/plain": [
       "{'k1': 'cat', 'k2': 'dolphin', 'k3': 'mouse', 'k4': 'mouse', 'k5': 'parrot'}"
      ]
     },
     "execution_count": 84,
     "metadata": {},
     "output_type": "execute_result"
    }
   ],
   "source": [
    "# dictionaries: a key and its respective value form a key-value pair\n",
    "dict = {'k1': 'cat', 'k2': 'dog', 'k3': 'mouse', 'k4': 'mouse'}\n",
    "dict['k3']\n",
    "dict['k5'] = 'parrot' # adding a new value\n",
    "dict['k2'] = 'dolphin' # updating a value\n",
    "dict"
   ]
  },
  {
   "cell_type": "code",
   "execution_count": 88,
   "metadata": {},
   "outputs": [
    {
     "data": {
      "text/plain": [
       "'mouse'"
      ]
     },
     "execution_count": 88,
     "metadata": {},
     "output_type": "execute_result"
    }
   ],
   "source": [
    "# dictionaries methods\n",
    "dict.get('k4')"
   ]
  },
  {
   "cell_type": "code",
   "execution_count": 2,
   "metadata": {},
   "outputs": [
    {
     "data": {
      "text/plain": [
       "([0, 2, 4, 6, 8, 10, 12, 14, 16, 18, 20], [1, 3, 5, 7, 9, 11, 13, 15, 17, 19])"
      ]
     },
     "execution_count": 2,
     "metadata": {},
     "output_type": "execute_result"
    }
   ],
   "source": [
    "# iteration\n",
    "# for loops\n",
    "even_list = []\n",
    "odd_list = []\n",
    "for item in range(21):\n",
    "    if item % 2 == 0:\n",
    "        even_list.append(item)\n",
    "    else:\n",
    "        odd_list.append(item)\n",
    "even_list, odd_list"
   ]
  },
  {
   "cell_type": "code",
   "execution_count": 3,
   "metadata": {},
   "outputs": [
    {
     "data": {
      "text/plain": [
       "([2, 4, 6, 8, 10, 12, 14, 16, 18, 20], [1, 3, 5, 7, 9, 11, 13, 15, 17, 19])"
      ]
     },
     "execution_count": 3,
     "metadata": {},
     "output_type": "execute_result"
    }
   ],
   "source": [
    "# while loops\n",
    "new_even_list = []\n",
    "new_odd_list = []\n",
    "x = 1\n",
    "while x <= 20:\n",
    "    if x % 2 == 0:\n",
    "        new_even_list.append(x)\n",
    "    else:\n",
    "        new_odd_list.append(x)\n",
    "    x += 1 # incrementing\n",
    "new_even_list , new_odd_list"
   ]
  },
  {
   "cell_type": "code",
   "execution_count": 9,
   "metadata": {},
   "outputs": [
    {
     "name": "stdout",
     "output_type": "stream",
     "text": [
      "5 8 11 14 17 20 23 26 29 32 35 38 41 44 47 50 53 56 59 62 "
     ]
    },
    {
     "data": {
      "text/plain": [
       "range(5, 63, 3)"
      ]
     },
     "execution_count": 9,
     "metadata": {},
     "output_type": "execute_result"
    }
   ],
   "source": [
    "# range function\n",
    "for item in range(5, 63, 3):\n",
    "    print(item, end=' ')\n",
    "\n",
    "range(5, 63, 3) # range(start, stop, increment)"
   ]
  },
  {
   "cell_type": "code",
   "execution_count": 14,
   "metadata": {},
   "outputs": [
    {
     "data": {
      "text/plain": [
       "([5, 8, 11, 14, 17, 20, 23, 26, 29, 32, 35, 38], 5)"
      ]
     },
     "execution_count": 14,
     "metadata": {},
     "output_type": "execute_result"
    }
   ],
   "source": [
    "# conditional statements, functions and loops\n",
    "def count_less_than_twenty(list):\n",
    "    counter = 0\n",
    "    for item in list:\n",
    "        if item < 20:\n",
    "            counter += 1\n",
    "    return counter\n",
    "\n",
    "my_list = range(5, 39, 3)\n",
    "list(my_list), count_less_than_twenty(my_list)\n"
   ]
  },
  {
   "cell_type": "code",
   "execution_count": 1,
   "metadata": {},
   "outputs": [
    {
     "data": {
      "text/plain": [
       "74"
      ]
     },
     "execution_count": 1,
     "metadata": {},
     "output_type": "execute_result"
    }
   ],
   "source": [
    "# iterate over dictionaries\n",
    "# money spent on a shopping list\n",
    "prices = {\n",
    "    'box_of_spaghetti': 4,\n",
    "    'lasagna': 5,\n",
    "    'hamburger': 2\n",
    "}\n",
    "quantity = {\n",
    "    'box_of_spaghetti': 6,\n",
    "    'lasagna': 10,\n",
    "    'hamburger': 0\n",
    "}\n",
    "#! notice that the two dictionaries contain the sae keys\n",
    "money_spent = 0\n",
    "for item in prices:\n",
    "    money_spent += prices[item] * quantity[item]\n",
    "money_spent\n"
   ]
  },
  {
   "cell_type": "code",
   "execution_count": null,
   "metadata": {},
   "outputs": [],
   "source": [
    "# OOP\n",
    "# class >>> object"
   ]
  },
  {
   "cell_type": "markdown",
   "metadata": {},
   "source": [
    "* How to import a module??\n",
    "    * 1.\n",
    "        * import math\n",
    "        * math.sqrt(16)\n",
    "    * 2.\n",
    "        * from math import sqrt\n",
    "        * sqrt(16)\n",
    "    * 3.\n",
    "        * from math import sqrt as s\n",
    "        * s(16)\n",
    "    * 4.\n",
    "        * import math as m\n",
    "        * m.sqrt(16)\n",
    "    * 5.\n",
    "        * from math import *  !!! THIS IS NOT RECOMMENDED\n",
    "        * sqrt(16)"
   ]
  }
 ],
 "metadata": {
  "interpreter": {
   "hash": "8e8e4eb5db0f860d4a44dc6330e82e048092d887d887acb3f533fd17e70a9777"
  },
  "kernelspec": {
   "display_name": "Python 3.10.0 64-bit",
   "language": "python",
   "name": "python3"
  },
  "language_info": {
   "codemirror_mode": {
    "name": "ipython",
    "version": 3
   },
   "file_extension": ".py",
   "mimetype": "text/x-python",
   "name": "python",
   "nbconvert_exporter": "python",
   "pygments_lexer": "ipython3",
   "version": "3.10.0"
  },
  "orig_nbformat": 4
 },
 "nbformat": 4,
 "nbformat_minor": 2
}
